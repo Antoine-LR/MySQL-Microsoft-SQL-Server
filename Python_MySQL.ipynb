{
  "cells": [
    {
      "cell_type": "markdown",
      "metadata": {
        "id": "view-in-github",
        "colab_type": "text"
      },
      "source": [
        "<a href=\"https://colab.research.google.com/github/Antoine-LR/SQL/blob/main/Python_MySQL.ipynb\" target=\"_parent\"><img src=\"https://colab.research.google.com/assets/colab-badge.svg\" alt=\"Open In Colab\"/></a>"
      ]
    },
    {
      "cell_type": "code",
      "execution_count": null,
      "id": "3a511ed6",
      "metadata": {
        "id": "3a511ed6"
      },
      "outputs": [],
      "source": [
        "from mysql.connector import connect, Error"
      ]
    },
    {
      "cell_type": "code",
      "execution_count": null,
      "id": "d5e69416",
      "metadata": {
        "id": "d5e69416"
      },
      "outputs": [],
      "source": [
        "import pandas as pd\n",
        "import sqlite3"
      ]
    },
    {
      "cell_type": "code",
      "execution_count": null,
      "id": "1ff6838d",
      "metadata": {
        "id": "1ff6838d",
        "outputId": "96f9c88b-3e08-4fd7-9e8e-cb1ff478940b"
      },
      "outputs": [
        {
          "name": "stdout",
          "output_type": "stream",
          "text": [
            "Collecting ipython-sql\n",
            "  Downloading ipython_sql-0.4.0-py3-none-any.whl (19 kB)\n",
            "Requirement already satisfied: ipython>=1.0 in c:\\users\\perso\\anaconda3\\lib\\site-packages (from ipython-sql) (7.22.0)\n",
            "Requirement already satisfied: six in c:\\users\\perso\\anaconda3\\lib\\site-packages (from ipython-sql) (1.15.0)\n",
            "Requirement already satisfied: sqlalchemy>=0.6.7 in c:\\users\\perso\\anaconda3\\lib\\site-packages (from ipython-sql) (1.4.7)\n",
            "Requirement already satisfied: ipython-genutils>=0.1.0 in c:\\users\\perso\\anaconda3\\lib\\site-packages (from ipython-sql) (0.2.0)\n",
            "Collecting sqlparse\n",
            "  Downloading sqlparse-0.4.2-py3-none-any.whl (42 kB)\n",
            "Collecting prettytable<1\n",
            "  Downloading prettytable-0.7.2.zip (28 kB)\n",
            "Requirement already satisfied: jedi>=0.16 in c:\\users\\perso\\anaconda3\\lib\\site-packages (from ipython>=1.0->ipython-sql) (0.17.2)\n",
            "Requirement already satisfied: prompt-toolkit!=3.0.0,!=3.0.1,<3.1.0,>=2.0.0 in c:\\users\\perso\\anaconda3\\lib\\site-packages (from ipython>=1.0->ipython-sql) (3.0.17)\n",
            "Requirement already satisfied: setuptools>=18.5 in c:\\users\\perso\\anaconda3\\lib\\site-packages (from ipython>=1.0->ipython-sql) (52.0.0.post20210125)\n",
            "Requirement already satisfied: traitlets>=4.2 in c:\\users\\perso\\anaconda3\\lib\\site-packages (from ipython>=1.0->ipython-sql) (5.0.5)\n",
            "Requirement already satisfied: backcall in c:\\users\\perso\\anaconda3\\lib\\site-packages (from ipython>=1.0->ipython-sql) (0.2.0)\n",
            "Requirement already satisfied: decorator in c:\\users\\perso\\anaconda3\\lib\\site-packages (from ipython>=1.0->ipython-sql) (5.0.6)\n",
            "Requirement already satisfied: pygments in c:\\users\\perso\\anaconda3\\lib\\site-packages (from ipython>=1.0->ipython-sql) (2.8.1)\n",
            "Requirement already satisfied: pickleshare in c:\\users\\perso\\anaconda3\\lib\\site-packages (from ipython>=1.0->ipython-sql) (0.7.5)\n",
            "Requirement already satisfied: colorama in c:\\users\\perso\\anaconda3\\lib\\site-packages (from ipython>=1.0->ipython-sql) (0.4.4)\n",
            "Requirement already satisfied: parso<0.8.0,>=0.7.0 in c:\\users\\perso\\anaconda3\\lib\\site-packages (from jedi>=0.16->ipython>=1.0->ipython-sql) (0.7.0)\n",
            "Requirement already satisfied: wcwidth in c:\\users\\perso\\anaconda3\\lib\\site-packages (from prompt-toolkit!=3.0.0,!=3.0.1,<3.1.0,>=2.0.0->ipython>=1.0->ipython-sql) (0.2.5)\n",
            "Requirement already satisfied: greenlet!=0.4.17 in c:\\users\\perso\\anaconda3\\lib\\site-packages (from sqlalchemy>=0.6.7->ipython-sql) (1.0.0)\n",
            "Building wheels for collected packages: prettytable\n",
            "  Building wheel for prettytable (setup.py): started\n",
            "  Building wheel for prettytable (setup.py): finished with status 'done'\n",
            "  Created wheel for prettytable: filename=prettytable-0.7.2-py3-none-any.whl size=13699 sha256=46b9b90fdf92f3ba2df9ef21b7e89451c0cdcd12d7a226ba3fdd51568f2bc98a\n",
            "  Stored in directory: c:\\users\\perso\\appdata\\local\\pip\\cache\\wheels\\48\\6d\\77\\9517cb933af254f51a446f1a5ec9c2be3e45f17384940bce68\n",
            "Successfully built prettytable\n",
            "Installing collected packages: sqlparse, prettytable, ipython-sql\n",
            "Successfully installed ipython-sql-0.4.0 prettytable-0.7.2 sqlparse-0.4.2\n"
          ]
        }
      ],
      "source": [
        "!pip install ipython-sql"
      ]
    },
    {
      "cell_type": "code",
      "execution_count": null,
      "id": "78052780",
      "metadata": {
        "id": "78052780"
      },
      "outputs": [],
      "source": [
        "df = pd.DataFrame({'name':['Juan','Victoria','Mary'],\n",
        "                  'age':[23,34,43],\n",
        "                  'city':['Miami','Buenos Aires','Santisago']})"
      ]
    },
    {
      "cell_type": "code",
      "execution_count": null,
      "id": "c9de8837",
      "metadata": {
        "id": "c9de8837",
        "outputId": "f107edd3-fa30-4faa-a587-01563f0090db"
      },
      "outputs": [
        {
          "data": {
            "text/html": [
              "<div>\n",
              "<style scoped>\n",
              "    .dataframe tbody tr th:only-of-type {\n",
              "        vertical-align: middle;\n",
              "    }\n",
              "\n",
              "    .dataframe tbody tr th {\n",
              "        vertical-align: top;\n",
              "    }\n",
              "\n",
              "    .dataframe thead th {\n",
              "        text-align: right;\n",
              "    }\n",
              "</style>\n",
              "<table border=\"1\" class=\"dataframe\">\n",
              "  <thead>\n",
              "    <tr style=\"text-align: right;\">\n",
              "      <th></th>\n",
              "      <th>name</th>\n",
              "      <th>age</th>\n",
              "      <th>city</th>\n",
              "    </tr>\n",
              "  </thead>\n",
              "  <tbody>\n",
              "    <tr>\n",
              "      <th>0</th>\n",
              "      <td>Juan</td>\n",
              "      <td>23</td>\n",
              "      <td>Miami</td>\n",
              "    </tr>\n",
              "    <tr>\n",
              "      <th>1</th>\n",
              "      <td>Victoria</td>\n",
              "      <td>34</td>\n",
              "      <td>Buenos Aires</td>\n",
              "    </tr>\n",
              "    <tr>\n",
              "      <th>2</th>\n",
              "      <td>Mary</td>\n",
              "      <td>43</td>\n",
              "      <td>Santisago</td>\n",
              "    </tr>\n",
              "  </tbody>\n",
              "</table>\n",
              "</div>"
            ],
            "text/plain": [
              "       name  age          city\n",
              "0      Juan   23         Miami\n",
              "1  Victoria   34  Buenos Aires\n",
              "2      Mary   43     Santisago"
            ]
          },
          "execution_count": 4,
          "metadata": {},
          "output_type": "execute_result"
        }
      ],
      "source": [
        "df"
      ]
    },
    {
      "cell_type": "code",
      "execution_count": null,
      "id": "df43f679",
      "metadata": {
        "id": "df43f679"
      },
      "outputs": [],
      "source": [
        "#We will sqlite3 library and create a connection\n",
        "\n",
        "cnn = sqlite3.connect('jupyter_sql_tutorial.db')"
      ]
    },
    {
      "cell_type": "code",
      "execution_count": null,
      "id": "d999f301",
      "metadata": {
        "id": "d999f301"
      },
      "outputs": [],
      "source": [
        "df.to_sql('people',cnn)"
      ]
    },
    {
      "cell_type": "code",
      "execution_count": null,
      "id": "fb2c8f99",
      "metadata": {
        "id": "fb2c8f99"
      },
      "outputs": [],
      "source": [
        "# Load the sql module to iPython\n",
        "\n",
        "%load_ext sql"
      ]
    },
    {
      "cell_type": "code",
      "execution_count": null,
      "id": "0677d3c2",
      "metadata": {
        "id": "0677d3c2"
      },
      "outputs": [],
      "source": [
        "%sql sqlite:///jupyter_sql_tutorial.db"
      ]
    },
    {
      "cell_type": "code",
      "execution_count": null,
      "id": "8cb76e09",
      "metadata": {
        "id": "8cb76e09",
        "outputId": "7ac3a97e-b593-41cb-ce1f-3c858adc94f7"
      },
      "outputs": [
        {
          "name": "stdout",
          "output_type": "stream",
          "text": [
            " * sqlite:///jupyter_sql_tutorial.db\n",
            "Done.\n"
          ]
        },
        {
          "data": {
            "text/html": [
              "<table>\n",
              "    <tr>\n",
              "        <th>index</th>\n",
              "        <th>name</th>\n",
              "        <th>age</th>\n",
              "        <th>city</th>\n",
              "    </tr>\n",
              "    <tr>\n",
              "        <td>0</td>\n",
              "        <td>Juan</td>\n",
              "        <td>23</td>\n",
              "        <td>Miami</td>\n",
              "    </tr>\n",
              "    <tr>\n",
              "        <td>1</td>\n",
              "        <td>Victoria</td>\n",
              "        <td>34</td>\n",
              "        <td>Buenos Aires</td>\n",
              "    </tr>\n",
              "    <tr>\n",
              "        <td>2</td>\n",
              "        <td>Mary</td>\n",
              "        <td>43</td>\n",
              "        <td>Santisago</td>\n",
              "    </tr>\n",
              "</table>"
            ],
            "text/plain": [
              "[(0, 'Juan', 23, 'Miami'),\n",
              " (1, 'Victoria', 34, 'Buenos Aires'),\n",
              " (2, 'Mary', 43, 'Santisago')]"
            ]
          },
          "execution_count": 9,
          "metadata": {},
          "output_type": "execute_result"
        }
      ],
      "source": [
        "%%sql\n",
        "\n",
        "SELECT *\n",
        "FROM people"
      ]
    },
    {
      "cell_type": "code",
      "execution_count": null,
      "id": "03eee4c7",
      "metadata": {
        "id": "03eee4c7",
        "outputId": "e167b483-ce73-475d-a972-5f0079c0008a"
      },
      "outputs": [
        {
          "name": "stdout",
          "output_type": "stream",
          "text": [
            " * sqlite:///jupyter_sql_tutorial.db\n",
            "Done.\n"
          ]
        },
        {
          "data": {
            "text/html": [
              "<table>\n",
              "    <tr>\n",
              "        <th>count(*)</th>\n",
              "    </tr>\n",
              "    <tr>\n",
              "        <td>3</td>\n",
              "    </tr>\n",
              "</table>"
            ],
            "text/plain": [
              "[(3,)]"
            ]
          },
          "execution_count": 10,
          "metadata": {},
          "output_type": "execute_result"
        }
      ],
      "source": [
        "%%sql\n",
        "\n",
        "SELECT count(*)\n",
        "FROM people"
      ]
    },
    {
      "cell_type": "code",
      "execution_count": null,
      "id": "47ecdec0",
      "metadata": {
        "id": "47ecdec0",
        "outputId": "0409cc41-0cde-4fb4-9411-5b20478e0617"
      },
      "outputs": [
        {
          "name": "stdout",
          "output_type": "stream",
          "text": [
            " * sqlite:///jupyter_sql_tutorial.db\n",
            "Done.\n"
          ]
        },
        {
          "data": {
            "text/html": [
              "<table>\n",
              "    <tr>\n",
              "        <th>age_sum</th>\n",
              "    </tr>\n",
              "    <tr>\n",
              "        <td>100</td>\n",
              "    </tr>\n",
              "</table>"
            ],
            "text/plain": [
              "[(100,)]"
            ]
          },
          "execution_count": 11,
          "metadata": {},
          "output_type": "execute_result"
        }
      ],
      "source": [
        "%%sql\n",
        "\n",
        "SELECT sum(age) as 'age_sum'\n",
        "FROM people"
      ]
    },
    {
      "cell_type": "code",
      "execution_count": null,
      "id": "b7408682",
      "metadata": {
        "id": "b7408682"
      },
      "outputs": [],
      "source": [
        ""
      ]
    }
  ],
  "metadata": {
    "kernelspec": {
      "display_name": "Python 3",
      "language": "python",
      "name": "python3"
    },
    "language_info": {
      "codemirror_mode": {
        "name": "ipython",
        "version": 3
      },
      "file_extension": ".py",
      "mimetype": "text/x-python",
      "name": "python",
      "nbconvert_exporter": "python",
      "pygments_lexer": "ipython3",
      "version": "3.8.8"
    },
    "colab": {
      "name": "Python MySQL.ipynb",
      "provenance": [],
      "include_colab_link": true
    }
  },
  "nbformat": 4,
  "nbformat_minor": 5
}